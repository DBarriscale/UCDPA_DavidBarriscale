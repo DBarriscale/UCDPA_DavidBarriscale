{
 "cells": [
  {
   "cell_type": "code",
   "execution_count": 1,
   "id": "17c6f8ec",
   "metadata": {},
   "outputs": [],
   "source": [
    "# Start by importing packages.\n",
    "import pandas as pd # For reading various file types, data analysis.\n",
    "import numpy as np # For creating and manipulating arrays.\n",
    "import matplotlib.pyplot as plt # 2D plotting library for data visualisation.\n",
    "import seaborn as sns # Built on matplotlib, provides further options for data visualisation.\n",
    "from bs4 import BeautifulSoup as bs\n",
    "import requests"
   ]
  },
  {
   "cell_type": "code",
   "execution_count": 2,
   "id": "00923baa",
   "metadata": {},
   "outputs": [],
   "source": [
    "df_ratings = pd.read_csv(r\"C:\\Users\\User\\Documents\\Jupyter Notebooks\\Kaggle\\all_games.csv\")\n",
    "# Imported csv file sourced from Kaggle.com.\n",
    "# This data set contains information about games released from 1995-2021, scraped from Metacritic."
   ]
  },
  {
   "cell_type": "markdown",
   "id": "14d724db",
   "metadata": {},
   "source": [
    "# Data Overview"
   ]
  },
  {
   "cell_type": "code",
   "execution_count": 3,
   "id": "313e52ed",
   "metadata": {},
   "outputs": [
    {
     "name": "stdout",
     "output_type": "stream",
     "text": [
      "<class 'pandas.core.frame.DataFrame'>\n",
      "RangeIndex: 18800 entries, 0 to 18799\n",
      "Data columns (total 6 columns):\n",
      " #   Column        Non-Null Count  Dtype \n",
      "---  ------        --------------  ----- \n",
      " 0   name          18800 non-null  object\n",
      " 1   platform      18800 non-null  object\n",
      " 2   release_date  18800 non-null  object\n",
      " 3   summary       18686 non-null  object\n",
      " 4   meta_score    18800 non-null  int64 \n",
      " 5   user_review   18800 non-null  object\n",
      "dtypes: int64(1), object(5)\n",
      "memory usage: 881.4+ KB\n"
     ]
    }
   ],
   "source": [
    "df_ratings.info()\n",
    "# 18800 entries, 6 columns.\n",
    "# 'release_date' Dtype is object.\n",
    "# 'user_review' Dtype is object, unlike 'meta_score' which is integer.\n",
    "# There are some null values under the 'summary' column."
   ]
  },
  {
   "cell_type": "code",
   "execution_count": 4,
   "id": "43b751b6",
   "metadata": {},
   "outputs": [
    {
     "data": {
      "text/html": [
       "<div>\n",
       "<style scoped>\n",
       "    .dataframe tbody tr th:only-of-type {\n",
       "        vertical-align: middle;\n",
       "    }\n",
       "\n",
       "    .dataframe tbody tr th {\n",
       "        vertical-align: top;\n",
       "    }\n",
       "\n",
       "    .dataframe thead th {\n",
       "        text-align: right;\n",
       "    }\n",
       "</style>\n",
       "<table border=\"1\" class=\"dataframe\">\n",
       "  <thead>\n",
       "    <tr style=\"text-align: right;\">\n",
       "      <th></th>\n",
       "      <th>name</th>\n",
       "      <th>platform</th>\n",
       "      <th>release_date</th>\n",
       "      <th>summary</th>\n",
       "      <th>meta_score</th>\n",
       "      <th>user_review</th>\n",
       "    </tr>\n",
       "  </thead>\n",
       "  <tbody>\n",
       "    <tr>\n",
       "      <th>0</th>\n",
       "      <td>The Legend of Zelda: Ocarina of Time</td>\n",
       "      <td>Nintendo 64</td>\n",
       "      <td>November 23, 1998</td>\n",
       "      <td>As a young boy, Link is tricked by Ganondorf, ...</td>\n",
       "      <td>99</td>\n",
       "      <td>9.1</td>\n",
       "    </tr>\n",
       "    <tr>\n",
       "      <th>1</th>\n",
       "      <td>Tony Hawk's Pro Skater 2</td>\n",
       "      <td>PlayStation</td>\n",
       "      <td>September 20, 2000</td>\n",
       "      <td>As most major publishers' development efforts ...</td>\n",
       "      <td>98</td>\n",
       "      <td>7.4</td>\n",
       "    </tr>\n",
       "    <tr>\n",
       "      <th>2</th>\n",
       "      <td>Grand Theft Auto IV</td>\n",
       "      <td>PlayStation 3</td>\n",
       "      <td>April 29, 2008</td>\n",
       "      <td>[Metacritic's 2008 PS3 Game of the Year; Also ...</td>\n",
       "      <td>98</td>\n",
       "      <td>7.7</td>\n",
       "    </tr>\n",
       "    <tr>\n",
       "      <th>3</th>\n",
       "      <td>SoulCalibur</td>\n",
       "      <td>Dreamcast</td>\n",
       "      <td>September 8, 1999</td>\n",
       "      <td>This is a tale of souls and swords, transcendi...</td>\n",
       "      <td>98</td>\n",
       "      <td>8.4</td>\n",
       "    </tr>\n",
       "    <tr>\n",
       "      <th>4</th>\n",
       "      <td>Grand Theft Auto IV</td>\n",
       "      <td>Xbox 360</td>\n",
       "      <td>April 29, 2008</td>\n",
       "      <td>[Metacritic's 2008 Xbox 360 Game of the Year; ...</td>\n",
       "      <td>98</td>\n",
       "      <td>7.9</td>\n",
       "    </tr>\n",
       "  </tbody>\n",
       "</table>\n",
       "</div>"
      ],
      "text/plain": [
       "                                   name        platform        release_date  \\\n",
       "0  The Legend of Zelda: Ocarina of Time     Nintendo 64   November 23, 1998   \n",
       "1              Tony Hawk's Pro Skater 2     PlayStation  September 20, 2000   \n",
       "2                   Grand Theft Auto IV   PlayStation 3      April 29, 2008   \n",
       "3                           SoulCalibur       Dreamcast   September 8, 1999   \n",
       "4                   Grand Theft Auto IV        Xbox 360      April 29, 2008   \n",
       "\n",
       "                                             summary  meta_score user_review  \n",
       "0  As a young boy, Link is tricked by Ganondorf, ...          99         9.1  \n",
       "1  As most major publishers' development efforts ...          98         7.4  \n",
       "2  [Metacritic's 2008 PS3 Game of the Year; Also ...          98         7.7  \n",
       "3  This is a tale of souls and swords, transcendi...          98         8.4  \n",
       "4  [Metacritic's 2008 Xbox 360 Game of the Year; ...          98         7.9  "
      ]
     },
     "execution_count": 4,
     "metadata": {},
     "output_type": "execute_result"
    }
   ],
   "source": [
    "df_ratings.head() # Quick look at the data."
   ]
  },
  {
   "cell_type": "code",
   "execution_count": 5,
   "id": "ddc278a0",
   "metadata": {},
   "outputs": [
    {
     "data": {
      "text/html": [
       "<div>\n",
       "<style scoped>\n",
       "    .dataframe tbody tr th:only-of-type {\n",
       "        vertical-align: middle;\n",
       "    }\n",
       "\n",
       "    .dataframe tbody tr th {\n",
       "        vertical-align: top;\n",
       "    }\n",
       "\n",
       "    .dataframe thead th {\n",
       "        text-align: right;\n",
       "    }\n",
       "</style>\n",
       "<table border=\"1\" class=\"dataframe\">\n",
       "  <thead>\n",
       "    <tr style=\"text-align: right;\">\n",
       "      <th></th>\n",
       "      <th>name</th>\n",
       "      <th>platform</th>\n",
       "      <th>release_date</th>\n",
       "      <th>summary</th>\n",
       "      <th>meta_score</th>\n",
       "      <th>user_review</th>\n",
       "    </tr>\n",
       "  </thead>\n",
       "  <tbody>\n",
       "    <tr>\n",
       "      <th>18795</th>\n",
       "      <td>Fast &amp; Furious: Showdown</td>\n",
       "      <td>Xbox 360</td>\n",
       "      <td>May 21, 2013</td>\n",
       "      <td>Fast &amp; Furious: Showdown takes some of the fra...</td>\n",
       "      <td>22</td>\n",
       "      <td>1.3</td>\n",
       "    </tr>\n",
       "    <tr>\n",
       "      <th>18796</th>\n",
       "      <td>Drake of the 99 Dragons</td>\n",
       "      <td>Xbox</td>\n",
       "      <td>November 3, 2003</td>\n",
       "      <td>Drake is out for revenge in a supernatural Hon...</td>\n",
       "      <td>22</td>\n",
       "      <td>1.7</td>\n",
       "    </tr>\n",
       "    <tr>\n",
       "      <th>18797</th>\n",
       "      <td>Afro Samurai 2: Revenge of Kuma Volume One</td>\n",
       "      <td>PlayStation 4</td>\n",
       "      <td>September 22, 2015</td>\n",
       "      <td>Head out on a journey of redemption, driven by...</td>\n",
       "      <td>21</td>\n",
       "      <td>2.9</td>\n",
       "    </tr>\n",
       "    <tr>\n",
       "      <th>18798</th>\n",
       "      <td>Infestation: Survivor Stories (The War Z)</td>\n",
       "      <td>PC</td>\n",
       "      <td>October 15, 2012</td>\n",
       "      <td>(Formerly known as \"The War Z\") It has been 5 ...</td>\n",
       "      <td>20</td>\n",
       "      <td>1.7</td>\n",
       "    </tr>\n",
       "    <tr>\n",
       "      <th>18799</th>\n",
       "      <td>Leisure Suit Larry: Box Office Bust</td>\n",
       "      <td>PC</td>\n",
       "      <td>March 31, 2009</td>\n",
       "      <td>The Leisure Suit Larry: Box Office Bust video ...</td>\n",
       "      <td>20</td>\n",
       "      <td>2.0</td>\n",
       "    </tr>\n",
       "  </tbody>\n",
       "</table>\n",
       "</div>"
      ],
      "text/plain": [
       "                                             name        platform  \\\n",
       "18795                    Fast & Furious: Showdown        Xbox 360   \n",
       "18796                     Drake of the 99 Dragons            Xbox   \n",
       "18797  Afro Samurai 2: Revenge of Kuma Volume One   PlayStation 4   \n",
       "18798   Infestation: Survivor Stories (The War Z)              PC   \n",
       "18799         Leisure Suit Larry: Box Office Bust              PC   \n",
       "\n",
       "             release_date                                            summary  \\\n",
       "18795        May 21, 2013  Fast & Furious: Showdown takes some of the fra...   \n",
       "18796    November 3, 2003  Drake is out for revenge in a supernatural Hon...   \n",
       "18797  September 22, 2015  Head out on a journey of redemption, driven by...   \n",
       "18798    October 15, 2012  (Formerly known as \"The War Z\") It has been 5 ...   \n",
       "18799      March 31, 2009  The Leisure Suit Larry: Box Office Bust video ...   \n",
       "\n",
       "       meta_score user_review  \n",
       "18795          22         1.3  \n",
       "18796          22         1.7  \n",
       "18797          21         2.9  \n",
       "18798          20         1.7  \n",
       "18799          20         2.0  "
      ]
     },
     "execution_count": 5,
     "metadata": {},
     "output_type": "execute_result"
    }
   ],
   "source": [
    "df_ratings.tail()"
   ]
  },
  {
   "cell_type": "code",
   "execution_count": 6,
   "id": "44e4b395",
   "metadata": {},
   "outputs": [
    {
     "name": "stdout",
     "output_type": "stream",
     "text": [
      "Downloading started\n",
      "File downloaded\n"
     ]
    }
   ],
   "source": [
    "print('Downloading started')\n",
    "domain = 'https://www.kaggle.com/'\n",
    "url = 'https://www.kaggle.com/datasets/holmjason2/videogamedata/download?datasetVersionNumber=2'\n",
    "filetype = '.zip'\n",
    "\n",
    "def get_soup(url):\n",
    "    return bs(requests.get(url).text, 'html.parser')\n",
    "\n",
    "for link in get_soup(url).find_all('a'):\n",
    "    file_link = link.get('href')\n",
    "    if filetype in file_link:\n",
    "        print(file_link)\n",
    "        with open(link.text, 'wb') as file:\n",
    "            response = requests.get(domain + file_link)\n",
    "            file.write(response.content)\n",
    "print('File downloaded')\n",
    "\n",
    "# Web scraping relevant data set from Kaggle.com.\n",
    "# This data set contains information about games sales from 1977-2020, scraped from Metacritic."
   ]
  },
  {
   "cell_type": "code",
   "execution_count": 7,
   "id": "f33e0321",
   "metadata": {},
   "outputs": [],
   "source": [
    "# Unzip and load the next .csv data set.\n",
    "df_sales = pd.read_csv(r'C:\\Users\\User\\Downloads\\game_sales_data.csv')"
   ]
  },
  {
   "cell_type": "code",
   "execution_count": 8,
   "id": "1e891f35",
   "metadata": {
    "scrolled": true
   },
   "outputs": [
    {
     "name": "stdout",
     "output_type": "stream",
     "text": [
      "<class 'pandas.core.frame.DataFrame'>\n",
      "RangeIndex: 19600 entries, 0 to 19599\n",
      "Data columns (total 9 columns):\n",
      " #   Column         Non-Null Count  Dtype  \n",
      "---  ------         --------------  -----  \n",
      " 0   Rank           19600 non-null  int64  \n",
      " 1   Name           19600 non-null  object \n",
      " 2   Platform       19600 non-null  object \n",
      " 3   Publisher      19600 non-null  object \n",
      " 4   Developer      19598 non-null  object \n",
      " 5   Critic_Score   9969 non-null   float64\n",
      " 6   User_Score     2223 non-null   float64\n",
      " 7   Total_Shipped  19600 non-null  float64\n",
      " 8   Year           19600 non-null  int64  \n",
      "dtypes: float64(3), int64(2), object(4)\n",
      "memory usage: 1.3+ MB\n"
     ]
    }
   ],
   "source": [
    "df_sales.info()\n",
    "# 19600 entries, 9 columns. More than 'df_ratings', though might not all be relevant.\n",
    "# Large number of null values."
   ]
  },
  {
   "cell_type": "code",
   "execution_count": 9,
   "id": "1c66849d",
   "metadata": {},
   "outputs": [
    {
     "data": {
      "text/html": [
       "<div>\n",
       "<style scoped>\n",
       "    .dataframe tbody tr th:only-of-type {\n",
       "        vertical-align: middle;\n",
       "    }\n",
       "\n",
       "    .dataframe tbody tr th {\n",
       "        vertical-align: top;\n",
       "    }\n",
       "\n",
       "    .dataframe thead th {\n",
       "        text-align: right;\n",
       "    }\n",
       "</style>\n",
       "<table border=\"1\" class=\"dataframe\">\n",
       "  <thead>\n",
       "    <tr style=\"text-align: right;\">\n",
       "      <th></th>\n",
       "      <th>Rank</th>\n",
       "      <th>Name</th>\n",
       "      <th>Platform</th>\n",
       "      <th>Publisher</th>\n",
       "      <th>Developer</th>\n",
       "      <th>Critic_Score</th>\n",
       "      <th>User_Score</th>\n",
       "      <th>Total_Shipped</th>\n",
       "      <th>Year</th>\n",
       "    </tr>\n",
       "  </thead>\n",
       "  <tbody>\n",
       "    <tr>\n",
       "      <th>0</th>\n",
       "      <td>1</td>\n",
       "      <td>Wii Sports</td>\n",
       "      <td>Wii</td>\n",
       "      <td>Nintendo</td>\n",
       "      <td>Nintendo EAD</td>\n",
       "      <td>7.7</td>\n",
       "      <td>8.0</td>\n",
       "      <td>82.90</td>\n",
       "      <td>2006</td>\n",
       "    </tr>\n",
       "    <tr>\n",
       "      <th>1</th>\n",
       "      <td>2</td>\n",
       "      <td>Super Mario Bros.</td>\n",
       "      <td>NES</td>\n",
       "      <td>Nintendo</td>\n",
       "      <td>Nintendo EAD</td>\n",
       "      <td>10.0</td>\n",
       "      <td>8.2</td>\n",
       "      <td>40.24</td>\n",
       "      <td>1985</td>\n",
       "    </tr>\n",
       "    <tr>\n",
       "      <th>2</th>\n",
       "      <td>3</td>\n",
       "      <td>Counter-Strike: Global Offensive</td>\n",
       "      <td>PC</td>\n",
       "      <td>Valve</td>\n",
       "      <td>Valve Corporation</td>\n",
       "      <td>8.0</td>\n",
       "      <td>7.5</td>\n",
       "      <td>40.00</td>\n",
       "      <td>2012</td>\n",
       "    </tr>\n",
       "    <tr>\n",
       "      <th>3</th>\n",
       "      <td>4</td>\n",
       "      <td>Mario Kart Wii</td>\n",
       "      <td>Wii</td>\n",
       "      <td>Nintendo</td>\n",
       "      <td>Nintendo EAD</td>\n",
       "      <td>8.2</td>\n",
       "      <td>9.1</td>\n",
       "      <td>37.32</td>\n",
       "      <td>2008</td>\n",
       "    </tr>\n",
       "    <tr>\n",
       "      <th>4</th>\n",
       "      <td>5</td>\n",
       "      <td>PLAYERUNKNOWN'S BATTLEGROUNDS</td>\n",
       "      <td>PC</td>\n",
       "      <td>PUBG Corporation</td>\n",
       "      <td>PUBG Corporation</td>\n",
       "      <td>8.6</td>\n",
       "      <td>4.7</td>\n",
       "      <td>36.60</td>\n",
       "      <td>2017</td>\n",
       "    </tr>\n",
       "  </tbody>\n",
       "</table>\n",
       "</div>"
      ],
      "text/plain": [
       "   Rank                              Name Platform         Publisher  \\\n",
       "0     1                        Wii Sports      Wii          Nintendo   \n",
       "1     2                 Super Mario Bros.      NES          Nintendo   \n",
       "2     3  Counter-Strike: Global Offensive       PC             Valve   \n",
       "3     4                    Mario Kart Wii      Wii          Nintendo   \n",
       "4     5     PLAYERUNKNOWN'S BATTLEGROUNDS       PC  PUBG Corporation   \n",
       "\n",
       "           Developer  Critic_Score  User_Score  Total_Shipped  Year  \n",
       "0       Nintendo EAD           7.7         8.0          82.90  2006  \n",
       "1       Nintendo EAD          10.0         8.2          40.24  1985  \n",
       "2  Valve Corporation           8.0         7.5          40.00  2012  \n",
       "3       Nintendo EAD           8.2         9.1          37.32  2008  \n",
       "4   PUBG Corporation           8.6         4.7          36.60  2017  "
      ]
     },
     "execution_count": 9,
     "metadata": {},
     "output_type": "execute_result"
    }
   ],
   "source": [
    "df_sales.head() \n",
    "# First glance tells us that the 'year' column is less specific than the 'release_date' column in 'df_ratings'.\n",
    "# The platform column appears to be inconsistent with that of 'df_ratings'.\n",
    "# 'Critic_Score' and 'User_Score' here are the same as 'meta_score' and 'user_review' in 'df_ratings'.\n",
    "# As 'df_ratings' covers data up to 2021, we can disregard the 'Critic_Score' and 'User_Score' columns as they \n",
    "# will no longer be up to date."
   ]
  },
  {
   "cell_type": "code",
   "execution_count": 10,
   "id": "8c62e8c5",
   "metadata": {},
   "outputs": [
    {
     "data": {
      "text/html": [
       "<div>\n",
       "<style scoped>\n",
       "    .dataframe tbody tr th:only-of-type {\n",
       "        vertical-align: middle;\n",
       "    }\n",
       "\n",
       "    .dataframe tbody tr th {\n",
       "        vertical-align: top;\n",
       "    }\n",
       "\n",
       "    .dataframe thead th {\n",
       "        text-align: right;\n",
       "    }\n",
       "</style>\n",
       "<table border=\"1\" class=\"dataframe\">\n",
       "  <thead>\n",
       "    <tr style=\"text-align: right;\">\n",
       "      <th></th>\n",
       "      <th>Rank</th>\n",
       "      <th>Name</th>\n",
       "      <th>Platform</th>\n",
       "      <th>Publisher</th>\n",
       "      <th>Developer</th>\n",
       "      <th>Critic_Score</th>\n",
       "      <th>User_Score</th>\n",
       "      <th>Total_Shipped</th>\n",
       "      <th>Year</th>\n",
       "    </tr>\n",
       "  </thead>\n",
       "  <tbody>\n",
       "    <tr>\n",
       "      <th>19595</th>\n",
       "      <td>19594</td>\n",
       "      <td>FirePower for Microsoft Combat Flight Simulator 3</td>\n",
       "      <td>PC</td>\n",
       "      <td>GMX Media</td>\n",
       "      <td>Shockwave Productions</td>\n",
       "      <td>NaN</td>\n",
       "      <td>NaN</td>\n",
       "      <td>0.01</td>\n",
       "      <td>2004</td>\n",
       "    </tr>\n",
       "    <tr>\n",
       "      <th>19596</th>\n",
       "      <td>19595</td>\n",
       "      <td>Tom Clancy's Splinter Cell</td>\n",
       "      <td>PC</td>\n",
       "      <td>Ubisoft</td>\n",
       "      <td>Ubisoft</td>\n",
       "      <td>9.4</td>\n",
       "      <td>NaN</td>\n",
       "      <td>0.01</td>\n",
       "      <td>2003</td>\n",
       "    </tr>\n",
       "    <tr>\n",
       "      <th>19597</th>\n",
       "      <td>19596</td>\n",
       "      <td>Ashita no Joe 2: The Anime Super Remix</td>\n",
       "      <td>PS2</td>\n",
       "      <td>Capcom</td>\n",
       "      <td>Capcom</td>\n",
       "      <td>NaN</td>\n",
       "      <td>NaN</td>\n",
       "      <td>0.01</td>\n",
       "      <td>2002</td>\n",
       "    </tr>\n",
       "    <tr>\n",
       "      <th>19598</th>\n",
       "      <td>19597</td>\n",
       "      <td>Tokyo Yamanote Boys for V: Main Disc</td>\n",
       "      <td>PSV</td>\n",
       "      <td>Rejet</td>\n",
       "      <td>Rejet</td>\n",
       "      <td>NaN</td>\n",
       "      <td>NaN</td>\n",
       "      <td>0.01</td>\n",
       "      <td>2017</td>\n",
       "    </tr>\n",
       "    <tr>\n",
       "      <th>19599</th>\n",
       "      <td>19598</td>\n",
       "      <td>NadePro!! Kisama no Seiyuu Yatte Miro!</td>\n",
       "      <td>PS2</td>\n",
       "      <td>GungHo</td>\n",
       "      <td>GungHo Works</td>\n",
       "      <td>NaN</td>\n",
       "      <td>NaN</td>\n",
       "      <td>0.01</td>\n",
       "      <td>2009</td>\n",
       "    </tr>\n",
       "  </tbody>\n",
       "</table>\n",
       "</div>"
      ],
      "text/plain": [
       "        Rank                                               Name Platform  \\\n",
       "19595  19594  FirePower for Microsoft Combat Flight Simulator 3       PC   \n",
       "19596  19595                         Tom Clancy's Splinter Cell       PC   \n",
       "19597  19596             Ashita no Joe 2: The Anime Super Remix      PS2   \n",
       "19598  19597               Tokyo Yamanote Boys for V: Main Disc      PSV   \n",
       "19599  19598             NadePro!! Kisama no Seiyuu Yatte Miro!      PS2   \n",
       "\n",
       "       Publisher              Developer  Critic_Score  User_Score  \\\n",
       "19595  GMX Media  Shockwave Productions           NaN         NaN   \n",
       "19596    Ubisoft                Ubisoft           9.4         NaN   \n",
       "19597     Capcom                 Capcom           NaN         NaN   \n",
       "19598      Rejet                  Rejet           NaN         NaN   \n",
       "19599     GungHo           GungHo Works           NaN         NaN   \n",
       "\n",
       "       Total_Shipped  Year  \n",
       "19595           0.01  2004  \n",
       "19596           0.01  2003  \n",
       "19597           0.01  2002  \n",
       "19598           0.01  2017  \n",
       "19599           0.01  2009  "
      ]
     },
     "execution_count": 10,
     "metadata": {},
     "output_type": "execute_result"
    }
   ],
   "source": [
    "df_sales.tail()"
   ]
  },
  {
   "cell_type": "markdown",
   "id": "16ae6b4d",
   "metadata": {},
   "source": [
    "# Cleaning and Validating"
   ]
  },
  {
   "cell_type": "code",
   "execution_count": 11,
   "id": "27ab2519",
   "metadata": {},
   "outputs": [
    {
     "data": {
      "text/plain": [
       "0"
      ]
     },
     "execution_count": 11,
     "metadata": {},
     "output_type": "execute_result"
    }
   ],
   "source": [
    "df_ratings.duplicated().sum() # Checking for duplicate values, there are none."
   ]
  },
  {
   "cell_type": "code",
   "execution_count": 12,
   "id": "b44ef9d5",
   "metadata": {},
   "outputs": [
    {
     "data": {
      "text/plain": [
       "name              0\n",
       "platform          0\n",
       "release_date      0\n",
       "summary         114\n",
       "meta_score        0\n",
       "user_review       0\n",
       "dtype: int64"
      ]
     },
     "execution_count": 12,
     "metadata": {},
     "output_type": "execute_result"
    }
   ],
   "source": [
    "df_ratings.isnull().sum() # Checking for null values."
   ]
  },
  {
   "cell_type": "code",
   "execution_count": 13,
   "id": "51241719",
   "metadata": {},
   "outputs": [
    {
     "name": "stdout",
     "output_type": "stream",
     "text": [
      "name: 0.0%\n",
      "platform: 0.0%\n",
      "release_date: 0.0%\n",
      "summary: 0.61%\n",
      "meta_score: 0.0%\n",
      "user_review: 0.0%\n"
     ]
    }
   ],
   "source": [
    "for column in df_ratings.columns:\n",
    "    percentage = df_ratings[column].isnull().mean()\n",
    "    print(f'{column}: {round(percentage*100,2)}%')\n",
    "# 0.61% of 'summary' values are missing."
   ]
  },
  {
   "cell_type": "code",
   "execution_count": 14,
   "id": "2a1216a2",
   "metadata": {},
   "outputs": [],
   "source": [
    "df_ratings['summary'].fillna('Unavailable', inplace=True) \n",
    "# Missing amount is negligible, will fill in with 'Unavailable'."
   ]
  },
  {
   "cell_type": "code",
   "execution_count": 15,
   "id": "6785c192",
   "metadata": {
    "scrolled": true
   },
   "outputs": [
    {
     "data": {
      "text/plain": [
       "name            0\n",
       "platform        0\n",
       "release_date    0\n",
       "summary         0\n",
       "meta_score      0\n",
       "user_review     0\n",
       "dtype: int64"
      ]
     },
     "execution_count": 15,
     "metadata": {},
     "output_type": "execute_result"
    }
   ],
   "source": [
    "df_ratings.isnull().sum() # Checking for any remaining null values."
   ]
  },
  {
   "cell_type": "code",
   "execution_count": 16,
   "id": "b966c25e",
   "metadata": {},
   "outputs": [
    {
     "data": {
      "text/plain": [
       "tbd    1365\n",
       "7.7     727\n",
       "7.8     701\n",
       "7.5     682\n",
       "7.6     673\n",
       "       ... \n",
       "1.0       2\n",
       "0.2       1\n",
       "0.9       1\n",
       "0.7       1\n",
       "9.4       1\n",
       "Name: user_review, Length: 94, dtype: int64"
      ]
     },
     "execution_count": 16,
     "metadata": {},
     "output_type": "execute_result"
    }
   ],
   "source": [
    "df_ratings['user_review'].value_counts()\n",
    "# User reviews are typically integer or float values on metacritic, searching for string value."
   ]
  },
  {
   "cell_type": "code",
   "execution_count": 17,
   "id": "20313e87",
   "metadata": {},
   "outputs": [
    {
     "data": {
      "text/plain": [
       "tbd    7.260638\n",
       "7.7    3.867021\n",
       "7.8    3.728723\n",
       "7.5    3.627660\n",
       "7.6    3.579787\n",
       "         ...   \n",
       "1.0    0.010638\n",
       "0.2    0.005319\n",
       "0.9    0.005319\n",
       "0.7    0.005319\n",
       "9.4    0.005319\n",
       "Name: user_review, Length: 94, dtype: float64"
      ]
     },
     "execution_count": 17,
     "metadata": {},
     "output_type": "execute_result"
    }
   ],
   "source": [
    "df_ratings['user_review'].value_counts(normalize=True) * 100\n",
    "# 'tbd', which is essentially a null value, accounts for 7.26% of 'user_review'."
   ]
  },
  {
   "cell_type": "code",
   "execution_count": 18,
   "id": "9a098acb",
   "metadata": {},
   "outputs": [],
   "source": [
    "df_ratings = df_ratings.drop(df_ratings[df_ratings['user_review'] == 'tbd'].index)\n",
    "# Although 7.26% may be considered quite a large amount of data to drop, it is acceptable for the purpose of this analysis.\n",
    "# Games that were not popular enough to get a public review of any measure on Metacritic will not be considered relevant."
   ]
  },
  {
   "cell_type": "code",
   "execution_count": 19,
   "id": "18c90916",
   "metadata": {},
   "outputs": [],
   "source": [
    "df_ratings[['user_review']] = df_ratings[['user_review']].apply(pd.to_numeric)\n",
    "# Converted 'user_review' data type to float so that it may be used more effectively later in graphing."
   ]
  },
  {
   "cell_type": "code",
   "execution_count": 20,
   "id": "638f97f1",
   "metadata": {},
   "outputs": [],
   "source": [
    "df_ratings['release_date'] = pd.to_datetime(df_ratings['release_date'])\n",
    "# Converted 'release_date' data type to DateTime for later use in graphing."
   ]
  },
  {
   "cell_type": "code",
   "execution_count": 21,
   "id": "e83f910a",
   "metadata": {},
   "outputs": [
    {
     "name": "stdout",
     "output_type": "stream",
     "text": [
      "<class 'pandas.core.frame.DataFrame'>\n",
      "Int64Index: 17435 entries, 0 to 18799\n",
      "Data columns (total 6 columns):\n",
      " #   Column        Non-Null Count  Dtype         \n",
      "---  ------        --------------  -----         \n",
      " 0   name          17435 non-null  object        \n",
      " 1   platform      17435 non-null  object        \n",
      " 2   release_date  17435 non-null  datetime64[ns]\n",
      " 3   summary       17435 non-null  object        \n",
      " 4   meta_score    17435 non-null  int64         \n",
      " 5   user_review   17435 non-null  float64       \n",
      "dtypes: datetime64[ns](1), float64(1), int64(1), object(3)\n",
      "memory usage: 953.5+ KB\n"
     ]
    }
   ],
   "source": [
    "df_ratings.info()\n",
    "# Checking that the data types were correctly converted, and that \n",
    "# there are no null values after dropping 'tbd' from 'user_review'."
   ]
  },
  {
   "cell_type": "code",
   "execution_count": 22,
   "id": "cbb6c703",
   "metadata": {},
   "outputs": [
    {
     "data": {
      "text/plain": [
       "0"
      ]
     },
     "execution_count": 22,
     "metadata": {},
     "output_type": "execute_result"
    }
   ],
   "source": [
    "# On to 'df_sales'.\n",
    "df_sales.duplicated().sum()"
   ]
  },
  {
   "cell_type": "code",
   "execution_count": 23,
   "id": "83625958",
   "metadata": {},
   "outputs": [
    {
     "data": {
      "text/plain": [
       "Rank                 0\n",
       "Name                 0\n",
       "Platform             0\n",
       "Publisher            0\n",
       "Developer            2\n",
       "Critic_Score      9631\n",
       "User_Score       17377\n",
       "Total_Shipped        0\n",
       "Year                 0\n",
       "dtype: int64"
      ]
     },
     "execution_count": 23,
     "metadata": {},
     "output_type": "execute_result"
    }
   ],
   "source": [
    "df_sales.isnull().sum()\n",
    "# As previously stated, the score columns are out of date. They are irrelevant and will be dropped.\n",
    "# Missing 'Developer' values are negligible."
   ]
  },
  {
   "cell_type": "code",
   "execution_count": 24,
   "id": "a6112453",
   "metadata": {},
   "outputs": [],
   "source": [
    "df_sales['Developer'].fillna('Unavailable', inplace=True)\n",
    "# Fill in missing values."
   ]
  },
  {
   "cell_type": "code",
   "execution_count": 25,
   "id": "af2bb7b8",
   "metadata": {},
   "outputs": [],
   "source": [
    "df_sales = df_sales.drop(columns=['Critic_Score', 'User_Score'])\n",
    "# Drop irrelevant columns."
   ]
  },
  {
   "cell_type": "code",
   "execution_count": 26,
   "id": "0ff10339",
   "metadata": {},
   "outputs": [],
   "source": [
    "df_sales['Year'] = pd.to_datetime(df_sales['Year'])"
   ]
  },
  {
   "cell_type": "code",
   "execution_count": 27,
   "id": "16237d8d",
   "metadata": {},
   "outputs": [
    {
     "name": "stdout",
     "output_type": "stream",
     "text": [
      "<class 'pandas.core.frame.DataFrame'>\n",
      "RangeIndex: 19600 entries, 0 to 19599\n",
      "Data columns (total 7 columns):\n",
      " #   Column         Non-Null Count  Dtype         \n",
      "---  ------         --------------  -----         \n",
      " 0   Rank           19600 non-null  int64         \n",
      " 1   Name           19600 non-null  object        \n",
      " 2   Platform       19600 non-null  object        \n",
      " 3   Publisher      19600 non-null  object        \n",
      " 4   Developer      19600 non-null  object        \n",
      " 5   Total_Shipped  19600 non-null  float64       \n",
      " 6   Year           19600 non-null  datetime64[ns]\n",
      "dtypes: datetime64[ns](1), float64(1), int64(1), object(4)\n",
      "memory usage: 1.0+ MB\n"
     ]
    }
   ],
   "source": [
    "df_sales.info()"
   ]
  },
  {
   "cell_type": "code",
   "execution_count": 28,
   "id": "0023a083",
   "metadata": {},
   "outputs": [
    {
     "name": "stdout",
     "output_type": "stream",
     "text": [
      "<class 'pandas.core.frame.DataFrame'>\n",
      "RangeIndex: 19600 entries, 0 to 19599\n",
      "Data columns (total 7 columns):\n",
      " #   Column         Non-Null Count  Dtype         \n",
      "---  ------         --------------  -----         \n",
      " 0   rank           19600 non-null  int64         \n",
      " 1   name           19600 non-null  object        \n",
      " 2   platform       19600 non-null  object        \n",
      " 3   publisher      19600 non-null  object        \n",
      " 4   developer      19600 non-null  object        \n",
      " 5   total_shipped  19600 non-null  float64       \n",
      " 6   release_date   19600 non-null  datetime64[ns]\n",
      "dtypes: datetime64[ns](1), float64(1), int64(1), object(4)\n",
      "memory usage: 1.0+ MB\n"
     ]
    }
   ],
   "source": [
    "df_sales.rename(columns={'Rank':'rank', 'Name':'name', 'Platform':'platform', 'Publisher':'publisher', 'Developer':'developer',\\\n",
    "                         'Total_Shipped':'total_shipped', 'Year':'release_date'}, inplace=True)\n",
    "df_sales.info()"
   ]
  },
  {
   "cell_type": "markdown",
   "id": "44a3fd4d",
   "metadata": {},
   "source": [
    "# Exploratory Data Analysis"
   ]
  },
  {
   "cell_type": "code",
   "execution_count": 29,
   "id": "ae08283c",
   "metadata": {
    "scrolled": true
   },
   "outputs": [
    {
     "data": {
      "text/plain": [
       " PC                  4660\n",
       " PlayStation 4       1950\n",
       " Xbox 360            1547\n",
       " PlayStation 2       1311\n",
       " Switch              1216\n",
       " PlayStation 3       1208\n",
       " Xbox One            1089\n",
       " Xbox                 686\n",
       " DS                   599\n",
       " Wii                  597\n",
       " PSP                  464\n",
       " GameCube             413\n",
       " 3DS                  378\n",
       " Game Boy Advance     349\n",
       " PlayStation Vita     251\n",
       " Wii U                181\n",
       " PlayStation          166\n",
       " Dreamcast            119\n",
       " PlayStation 5        110\n",
       " Nintendo 64           71\n",
       " Xbox Series X         65\n",
       " Stadia                 5\n",
       "Name: platform, dtype: int64"
      ]
     },
     "execution_count": 29,
     "metadata": {},
     "output_type": "execute_result"
    }
   ],
   "source": [
    "df_ratings['platform'].value_counts()"
   ]
  },
  {
   "cell_type": "code",
   "execution_count": 30,
   "id": "7abae44d",
   "metadata": {},
   "outputs": [],
   "source": [
    "df_ratings['platform'] = df_ratings['platform'].replace({'PlayStation 5': 'Sony PlayStation 5', 'PlayStation 4': 'Sony PlayStation 4', \\\n",
    "                                         'PlayStation 3': 'Sony PlayStation 3', 'PlayStation 2': 'Sony PlayStation 2', \\\n",
    "                                        'PlayStation': 'Sony PlayStation', 'PSP': 'Sony PSP', 'Switch': 'Nintendo Switch', \\\n",
    "                                         'DS': 'Nintendo DS', 'Wii': 'Nintendo Wii', 'GameCube': 'Nintendo Gamecube', \\\n",
    "                                        '3DS': 'Nintendo 3DS', 'Game Boy Advance': 'Nintendo Game Boy Advance', \\\n",
    "                                         'Wii U': 'Nintendo Wii U', 'Xbox 360': 'Microsoft Xbox 360', \\\n",
    "                                         'Xbox One': 'Microsoft Xbox One', 'Xbox': 'Microsoft Xbox', \\\n",
    "                                         'Xbox Series X': 'Microsoft Xbox Series X', 'Dreamcast': 'Sega Dreamcast', \\\n",
    "                                        'Stadia': 'Google Stadia'})"
   ]
  },
  {
   "cell_type": "code",
   "execution_count": null,
   "id": "6f254a8a",
   "metadata": {},
   "outputs": [],
   "source": []
  }
 ],
 "metadata": {
  "kernelspec": {
   "display_name": "Python 3",
   "language": "python",
   "name": "python3"
  },
  "language_info": {
   "codemirror_mode": {
    "name": "ipython",
    "version": 3
   },
   "file_extension": ".py",
   "mimetype": "text/x-python",
   "name": "python",
   "nbconvert_exporter": "python",
   "pygments_lexer": "ipython3",
   "version": "3.8.8"
  }
 },
 "nbformat": 4,
 "nbformat_minor": 5
}
